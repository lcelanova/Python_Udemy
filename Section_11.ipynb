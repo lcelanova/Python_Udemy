{
 "cells": [
  {
   "cell_type": "markdown",
   "id": "dacbbcdb",
   "metadata": {},
   "source": [
    "# CLASSES AND OBJETCS"
   ]
  },
  {
   "cell_type": "code",
   "execution_count": 3,
   "id": "4ef49bd2",
   "metadata": {},
   "outputs": [
    {
     "data": {
      "text/plain": [
       "[{'Nombre': 'Laura', 'Apellidos': 'Muñoz Fernandez', 'DNI': '32326457D'},\n",
       " {'Nombre': 'Elsa', 'Apellidos': 'Muñoz Fernandez', 'DNI': '54873421E'}]"
      ]
     },
     "execution_count": 3,
     "metadata": {},
     "output_type": "execute_result"
    }
   ],
   "source": [
    "clientes = [\n",
    "    {'Nombre': 'Laura', 'Apellidos': 'Muñoz Fernandez', 'DNI': '32326457D'},\n",
    "    {'Nombre': 'Elsa', 'Apellidos': 'Muñoz Fernandez', 'DNI': '54873421E'} \n",
    "]\n",
    "clientes"
   ]
  },
  {
   "cell_type": "code",
   "execution_count": 20,
   "id": "eb08490e",
   "metadata": {},
   "outputs": [],
   "source": [
    "def find_client_id(clientes, dni):\n",
    "    for client in clientes:\n",
    "        if dni == client['DNI']:\n",
    "            print(f\"{client['Nombre']} {client['Apellidos']}\")\n",
    "            return\n",
    "    print('Cliente no encontrado')"
   ]
  },
  {
   "cell_type": "code",
   "execution_count": 21,
   "id": "57d09a14",
   "metadata": {},
   "outputs": [
    {
     "name": "stdout",
     "output_type": "stream",
     "text": [
      "Laura Muñoz Fernandez\n"
     ]
    }
   ],
   "source": [
    "find_client_id(clientes, '32326457D')"
   ]
  },
  {
   "cell_type": "code",
   "execution_count": 22,
   "id": "c91c1e3f",
   "metadata": {},
   "outputs": [
    {
     "name": "stdout",
     "output_type": "stream",
     "text": [
      "Cliente no encontrado\n"
     ]
    }
   ],
   "source": [
    "find_client_id(clientes, '32326457H')"
   ]
  },
  {
   "cell_type": "code",
   "execution_count": 32,
   "id": "2a279a0d",
   "metadata": {},
   "outputs": [],
   "source": [
    "class Galleta:\n",
    "    chocolate = False"
   ]
  },
  {
   "cell_type": "code",
   "execution_count": 33,
   "id": "5e36084a",
   "metadata": {},
   "outputs": [],
   "source": [
    "una_galleta = Galleta()"
   ]
  },
  {
   "cell_type": "code",
   "execution_count": 25,
   "id": "012c80d0",
   "metadata": {},
   "outputs": [],
   "source": [
    "una_galleta.sabor = 'Salado'"
   ]
  },
  {
   "cell_type": "code",
   "execution_count": 26,
   "id": "4a9d4f8f",
   "metadata": {},
   "outputs": [],
   "source": [
    "una_galleta.color = 'Marrón'"
   ]
  },
  {
   "cell_type": "code",
   "execution_count": 35,
   "id": "4ce81efb",
   "metadata": {},
   "outputs": [],
   "source": [
    "una_galleta.chocolate = True"
   ]
  },
  {
   "cell_type": "code",
   "execution_count": 36,
   "id": "84270ae3",
   "metadata": {},
   "outputs": [
    {
     "data": {
      "text/plain": [
       "True"
      ]
     },
     "execution_count": 36,
     "metadata": {},
     "output_type": "execute_result"
    }
   ],
   "source": [
    "una_galleta.chocolate"
   ]
  },
  {
   "cell_type": "code",
   "execution_count": 37,
   "id": "9b2e8638",
   "metadata": {},
   "outputs": [],
   "source": [
    "class Galleta:\n",
    "    chocolate = False\n",
    "    def __init__(self):\n",
    "        print('Se ha creado una galleta')"
   ]
  },
  {
   "cell_type": "code",
   "execution_count": 38,
   "id": "e57c81e2",
   "metadata": {},
   "outputs": [
    {
     "name": "stdout",
     "output_type": "stream",
     "text": [
      "Se ha creado una galleta\n"
     ]
    }
   ],
   "source": [
    "another_galleta = Galleta()"
   ]
  },
  {
   "cell_type": "code",
   "execution_count": 46,
   "id": "0c8acdf8",
   "metadata": {},
   "outputs": [],
   "source": [
    "class Galleta:\n",
    "    chocolate = False\n",
    "    \n",
    "    def __init__(self):\n",
    "        print('Se ha creado una galleta')\n",
    "        \n",
    "    def chocolatear(self):\n",
    "        self.chocolate = True\n",
    "        \n",
    "    def tiene_chocolate(self):\n",
    "        if self.chocolate:\n",
    "            print('Soy una galleta con chocolate')"
   ]
  },
  {
   "cell_type": "code",
   "execution_count": 49,
   "id": "b0f00d45",
   "metadata": {},
   "outputs": [
    {
     "name": "stdout",
     "output_type": "stream",
     "text": [
      "Se ha creado una galleta\n",
      "Soy una galleta con chocolate\n"
     ]
    }
   ],
   "source": [
    "another_galleta = Galleta()\n",
    "another_galleta.chocolatear()\n",
    "another_galleta.tiene_chocolate()"
   ]
  },
  {
   "cell_type": "code",
   "execution_count": 63,
   "id": "acb9488e",
   "metadata": {},
   "outputs": [],
   "source": [
    "class Galleta:\n",
    "    chocolate = False\n",
    "    \n",
    "    def __init__(self, sabor=None, forma=None):\n",
    "        self.sabor = sabor\n",
    "        self.fomra = forma\n",
    "        if sabor != None and forma != None:\n",
    "            print(f'Se ha creado una galleta {forma} y {sabor}')\n",
    "        \n",
    "    def chocolatear(self):\n",
    "        self.chocolate = True\n",
    "        \n",
    "    def tiene_chocolate(self):\n",
    "        if self.chocolate:\n",
    "            print('Soy una galleta con chocolate')"
   ]
  },
  {
   "cell_type": "code",
   "execution_count": 64,
   "id": "9b1d7cb6",
   "metadata": {},
   "outputs": [
    {
     "name": "stdout",
     "output_type": "stream",
     "text": [
      "Soy una galleta con chocolate\n"
     ]
    }
   ],
   "source": [
    "another_galleta = Galleta()\n",
    "another_galleta.chocolatear()\n",
    "another_galleta.tiene_chocolate()\n"
   ]
  },
  {
   "cell_type": "code",
   "execution_count": 82,
   "id": "03010e53",
   "metadata": {},
   "outputs": [],
   "source": [
    "class Pelicula:\n",
    "    # CONSTRUCTOR DE CLASE\n",
    "    def __init__(self, titulo, duracion, lanzamiento):\n",
    "        self.titulo = titulo\n",
    "        self.duracion = duracion\n",
    "        self.lanzamiento = lanzamiento\n",
    "        print(f'Se ha creado la película {self.titulo}')\n",
    "    # DESTRUCTOR DE CLASE\n",
    "    def __del__(self):\n",
    "        print(f'Se ha borrado la película {self.titulo}')\n",
    "    def __str__(self):\n",
    "        return f'{self.titulo} lanzada en {self.lanzamiento} con una duración de {self.duracion}'\n",
    "    def __len__(self):\n",
    "        return self.duracion"
   ]
  },
  {
   "cell_type": "code",
   "execution_count": 84,
   "id": "0e7437fc",
   "metadata": {},
   "outputs": [
    {
     "name": "stdout",
     "output_type": "stream",
     "text": [
      "Se ha creado la película El Padrino\n",
      "Se ha borrado la película El Padrino\n"
     ]
    },
    {
     "data": {
      "text/plain": [
       "175"
      ]
     },
     "execution_count": 84,
     "metadata": {},
     "output_type": "execute_result"
    }
   ],
   "source": [
    "p = Pelicula('El Padrino', 175, 1972)\n",
    "len (p)"
   ]
  },
  {
   "cell_type": "code",
   "execution_count": null,
   "id": "520f7740",
   "metadata": {},
   "outputs": [],
   "source": []
  },
  {
   "cell_type": "code",
   "execution_count": null,
   "id": "8de8e55a",
   "metadata": {},
   "outputs": [],
   "source": []
  },
  {
   "cell_type": "code",
   "execution_count": null,
   "id": "8f4f1c0a",
   "metadata": {},
   "outputs": [],
   "source": []
  }
 ],
 "metadata": {
  "kernelspec": {
   "display_name": "Python 3 (ipykernel)",
   "language": "python",
   "name": "python3"
  },
  "language_info": {
   "codemirror_mode": {
    "name": "ipython",
    "version": 3
   },
   "file_extension": ".py",
   "mimetype": "text/x-python",
   "name": "python",
   "nbconvert_exporter": "python",
   "pygments_lexer": "ipython3",
   "version": "3.9.13"
  }
 },
 "nbformat": 4,
 "nbformat_minor": 5
}
