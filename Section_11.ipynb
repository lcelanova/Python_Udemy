{
 "cells": [
  {
   "cell_type": "markdown",
   "id": "38a0c445",
   "metadata": {},
   "source": [
    "# CLASSES AND OBJETCS"
   ]
  },
  {
   "cell_type": "code",
   "execution_count": 3,
   "id": "30af1912",
   "metadata": {},
   "outputs": [
    {
     "data": {
      "text/plain": [
       "[{'Nombre': 'Laura', 'Apellidos': 'Muñoz Fernandez', 'DNI': '32326457D'},\n",
       " {'Nombre': 'Elsa', 'Apellidos': 'Muñoz Fernandez', 'DNI': '54873421E'}]"
      ]
     },
     "execution_count": 3,
     "metadata": {},
     "output_type": "execute_result"
    }
   ],
   "source": [
    "clientes = [\n",
    "    {'Nombre': 'Laura', 'Apellidos': 'Muñoz Fernandez', 'DNI': '32326457D'},\n",
    "    {'Nombre': 'Elsa', 'Apellidos': 'Muñoz Fernandez', 'DNI': '54873421E'} \n",
    "]\n",
    "clientes"
   ]
  },
  {
   "cell_type": "code",
   "execution_count": 20,
   "id": "7ca1e74b",
   "metadata": {},
   "outputs": [],
   "source": [
    "def find_client_id(clientes, dni):\n",
    "    for client in clientes:\n",
    "        if dni == client['DNI']:\n",
    "            print(f\"{client['Nombre']} {client['Apellidos']}\")\n",
    "            return\n",
    "    print('Cliente no encontrado')"
   ]
  },
  {
   "cell_type": "code",
   "execution_count": 21,
   "id": "d4f3fbb7",
   "metadata": {},
   "outputs": [
    {
     "name": "stdout",
     "output_type": "stream",
     "text": [
      "Laura Muñoz Fernandez\n"
     ]
    }
   ],
   "source": [
    "find_client_id(clientes, '32326457D')"
   ]
  },
  {
   "cell_type": "code",
   "execution_count": 22,
   "id": "b2c12a50",
   "metadata": {},
   "outputs": [
    {
     "name": "stdout",
     "output_type": "stream",
     "text": [
      "Cliente no encontrado\n"
     ]
    }
   ],
   "source": [
    "find_client_id(clientes, '32326457H')"
   ]
  },
  {
   "cell_type": "code",
   "execution_count": null,
   "id": "05b4d327",
   "metadata": {},
   "outputs": [],
   "source": []
  },
  {
   "cell_type": "code",
   "execution_count": null,
   "id": "67337da9",
   "metadata": {},
   "outputs": [],
   "source": []
  },
  {
   "cell_type": "code",
   "execution_count": null,
   "id": "ce50ce5a",
   "metadata": {},
   "outputs": [],
   "source": []
  }
 ],
 "metadata": {
  "kernelspec": {
   "display_name": "Python 3 (ipykernel)",
   "language": "python",
   "name": "python3"
  },
  "language_info": {
   "codemirror_mode": {
    "name": "ipython",
    "version": 3
   },
   "file_extension": ".py",
   "mimetype": "text/x-python",
   "name": "python",
   "nbconvert_exporter": "python",
   "pygments_lexer": "ipython3",
   "version": "3.9.13"
  }
 },
 "nbformat": 4,
 "nbformat_minor": 5
}
