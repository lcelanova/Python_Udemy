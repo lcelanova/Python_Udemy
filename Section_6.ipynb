{
 "cells": [
  {
   "cell_type": "markdown",
   "id": "6a93e987",
   "metadata": {},
   "source": [
    "# TUPLES"
   ]
  },
  {
   "cell_type": "code",
   "execution_count": 3,
   "id": "3d21ff9b",
   "metadata": {},
   "outputs": [
    {
     "data": {
      "text/plain": [
       "(100, 'Hello', [1, 2, 3, 4])"
      ]
     },
     "execution_count": 3,
     "metadata": {},
     "output_type": "execute_result"
    }
   ],
   "source": [
    "tuple1 = (100, 'Hello', [1,2,3,4])\n",
    "tuple1"
   ]
  },
  {
   "cell_type": "code",
   "execution_count": 5,
   "id": "3fd640f8",
   "metadata": {},
   "outputs": [
    {
     "data": {
      "text/plain": [
       "[1, 2, 3, 4]"
      ]
     },
     "execution_count": 5,
     "metadata": {},
     "output_type": "execute_result"
    }
   ],
   "source": [
    "tuple1[-1]"
   ]
  },
  {
   "cell_type": "code",
   "execution_count": 7,
   "id": "3d24d44e",
   "metadata": {},
   "outputs": [
    {
     "data": {
      "text/plain": [
       "(100, 'Hello')"
      ]
     },
     "execution_count": 7,
     "metadata": {},
     "output_type": "execute_result"
    }
   ],
   "source": [
    "tuple1[:2]"
   ]
  },
  {
   "cell_type": "code",
   "execution_count": 8,
   "id": "f2d81846",
   "metadata": {},
   "outputs": [
    {
     "data": {
      "text/plain": [
       "3"
      ]
     },
     "execution_count": 8,
     "metadata": {},
     "output_type": "execute_result"
    }
   ],
   "source": [
    "len(tuple1)"
   ]
  },
  {
   "cell_type": "code",
   "execution_count": 13,
   "id": "fcfbe0ad",
   "metadata": {},
   "outputs": [
    {
     "data": {
      "text/plain": [
       "1"
      ]
     },
     "execution_count": 13,
     "metadata": {},
     "output_type": "execute_result"
    }
   ],
   "source": [
    "tuple1.index('Hello')"
   ]
  },
  {
   "cell_type": "code",
   "execution_count": 15,
   "id": "aac0e000",
   "metadata": {},
   "outputs": [
    {
     "data": {
      "text/plain": [
       "1"
      ]
     },
     "execution_count": 15,
     "metadata": {},
     "output_type": "execute_result"
    }
   ],
   "source": [
    "tuple1.count(100)"
   ]
  },
  {
   "cell_type": "markdown",
   "id": "82eed1c2",
   "metadata": {},
   "source": [
    "# SETS\n"
   ]
  },
  {
   "cell_type": "code",
   "execution_count": 17,
   "id": "d354b0dc",
   "metadata": {},
   "outputs": [],
   "source": [
    "set1 = set()"
   ]
  },
  {
   "cell_type": "code",
   "execution_count": 21,
   "id": "874b4450",
   "metadata": {},
   "outputs": [
    {
     "data": {
      "text/plain": [
       "{1, 2, 3}"
      ]
     },
     "execution_count": 21,
     "metadata": {},
     "output_type": "execute_result"
    }
   ],
   "source": [
    "set1 = {1,2,3}\n",
    "set1"
   ]
  },
  {
   "cell_type": "code",
   "execution_count": 23,
   "id": "d2af4623",
   "metadata": {},
   "outputs": [
    {
     "data": {
      "text/plain": [
       "{1, 2, 3, 5}"
      ]
     },
     "execution_count": 23,
     "metadata": {},
     "output_type": "execute_result"
    }
   ],
   "source": [
    "set1.add(5)"
   ]
  },
  {
   "cell_type": "code",
   "execution_count": 26,
   "id": "87aee10c",
   "metadata": {},
   "outputs": [
    {
     "data": {
      "text/plain": [
       "{0, 1, 2, 3, 5}"
      ]
     },
     "execution_count": 26,
     "metadata": {},
     "output_type": "execute_result"
    }
   ],
   "source": [
    "set1.add(0)\n",
    "set1"
   ]
  },
  {
   "cell_type": "code",
   "execution_count": 28,
   "id": "43c40a5c",
   "metadata": {},
   "outputs": [
    {
     "data": {
      "text/plain": [
       "{0, 1, 2, 3, 5, 'A'}"
      ]
     },
     "execution_count": 28,
     "metadata": {},
     "output_type": "execute_result"
    }
   ],
   "source": [
    "set1.add ('A')\n",
    "set1"
   ]
  },
  {
   "cell_type": "code",
   "execution_count": 29,
   "id": "dcac6dfd",
   "metadata": {},
   "outputs": [
    {
     "data": {
      "text/plain": [
       "True"
      ]
     },
     "execution_count": 29,
     "metadata": {},
     "output_type": "execute_result"
    }
   ],
   "source": [
    "0 in set1"
   ]
  },
  {
   "cell_type": "code",
   "execution_count": 30,
   "id": "56334188",
   "metadata": {},
   "outputs": [],
   "source": [
    "raw_list = [1,2,3,3,2,1]"
   ]
  },
  {
   "cell_type": "code",
   "execution_count": 32,
   "id": "3ca51c15",
   "metadata": {},
   "outputs": [
    {
     "data": {
      "text/plain": [
       "{1, 2, 3}"
      ]
     },
     "execution_count": 32,
     "metadata": {},
     "output_type": "execute_result"
    }
   ],
   "source": [
    "clean_list = set(raw_list)\n",
    "clean_list"
   ]
  },
  {
   "cell_type": "code",
   "execution_count": 37,
   "id": "82a06697",
   "metadata": {},
   "outputs": [
    {
     "data": {
      "text/plain": [
       "{'Ana', 'Andrés', 'Blanca', 'David', 'Eric', 'Marta'}"
      ]
     },
     "execution_count": 37,
     "metadata": {},
     "output_type": "execute_result"
    }
   ],
   "source": [
    "# Variables del ejercicio (no las modifiques)\n",
    "grupo = {\"Miguel\", \"Blanca\", \"Mario\", \"Andrés\"}\n",
    "\n",
    "# Completa el ejercicio\n",
    "grupo.add('Ana')\n",
    "grupo.add('Ramón')\n",
    "grupo.add('Marta')\n",
    "grupo.add('Eric')\n",
    "grupo.add('David')\n",
    "grupo.remove('Mario')\n",
    "grupo.remove('Miguel')\n",
    "grupo.remove('Ramón')\n",
    "grupo"
   ]
  },
  {
   "cell_type": "markdown",
   "id": "d1e86b2b",
   "metadata": {},
   "source": [
    "# DICTIONARIES"
   ]
  },
  {
   "cell_type": "code",
   "execution_count": 39,
   "id": "21541876",
   "metadata": {},
   "outputs": [
    {
     "data": {
      "text/plain": [
       "{}"
      ]
     },
     "execution_count": 39,
     "metadata": {},
     "output_type": "execute_result"
    }
   ],
   "source": [
    "empty = {}\n",
    "empty"
   ]
  },
  {
   "cell_type": "code",
   "execution_count": 40,
   "id": "4db6f539",
   "metadata": {},
   "outputs": [
    {
     "data": {
      "text/plain": [
       "dict"
      ]
     },
     "execution_count": 40,
     "metadata": {},
     "output_type": "execute_result"
    }
   ],
   "source": [
    "type(empty)"
   ]
  },
  {
   "cell_type": "code",
   "execution_count": 42,
   "id": "172febb1",
   "metadata": {},
   "outputs": [
    {
     "data": {
      "text/plain": [
       "{'amarillo': 'yellow', 'azul': 'blue', 'rojo': 'red'}"
      ]
     },
     "execution_count": 42,
     "metadata": {},
     "output_type": "execute_result"
    }
   ],
   "source": [
    "colors = {'amarillo': 'yellow', 'azul': 'blue', 'rojo': 'red'}\n",
    "colors"
   ]
  },
  {
   "cell_type": "code",
   "execution_count": 43,
   "id": "1037c116",
   "metadata": {},
   "outputs": [
    {
     "data": {
      "text/plain": [
       "'blue'"
      ]
     },
     "execution_count": 43,
     "metadata": {},
     "output_type": "execute_result"
    }
   ],
   "source": [
    "colors['azul']"
   ]
  },
  {
   "cell_type": "code",
   "execution_count": 45,
   "id": "0e3181ff",
   "metadata": {},
   "outputs": [
    {
     "data": {
      "text/plain": [
       "{'azul': 'blue', 'rojo': 'red'}"
      ]
     },
     "execution_count": 45,
     "metadata": {},
     "output_type": "execute_result"
    }
   ],
   "source": [
    "del(colors['amarillo'])\n",
    "colors"
   ]
  },
  {
   "cell_type": "code",
   "execution_count": 46,
   "id": "e8790b5e",
   "metadata": {},
   "outputs": [
    {
     "name": "stdout",
     "output_type": "stream",
     "text": [
      "azul\n",
      "rojo\n"
     ]
    }
   ],
   "source": [
    "for color in colors:\n",
    "    print(color)"
   ]
  },
  {
   "cell_type": "code",
   "execution_count": 48,
   "id": "8395cd70",
   "metadata": {},
   "outputs": [
    {
     "data": {
      "text/plain": [
       "{'laura': 24, 'elsa': 27, 'teresa': 50}"
      ]
     },
     "execution_count": 48,
     "metadata": {},
     "output_type": "execute_result"
    }
   ],
   "source": [
    "ages = {'laura': 24, 'elsa': 27, 'teresa': 50}\n",
    "ages"
   ]
  },
  {
   "cell_type": "code",
   "execution_count": 52,
   "id": "1dca0d83",
   "metadata": {},
   "outputs": [
    {
     "name": "stdout",
     "output_type": "stream",
     "text": [
      "24\n",
      "27\n",
      "50\n"
     ]
    }
   ],
   "source": [
    "for index in ages:\n",
    "    print(ages[index])"
   ]
  },
  {
   "cell_type": "code",
   "execution_count": 51,
   "id": "d33711de",
   "metadata": {},
   "outputs": [
    {
     "name": "stdout",
     "output_type": "stream",
     "text": [
      "laura 24\n",
      "elsa 27\n",
      "teresa 50\n"
     ]
    }
   ],
   "source": [
    "for c,v in ages.items():\n",
    "    print (c,v)"
   ]
  },
  {
   "cell_type": "code",
   "execution_count": 67,
   "id": "3818e147",
   "metadata": {},
   "outputs": [
    {
     "data": {
      "text/plain": [
       "{'perro': 'dog', 'gato': 'cat', 'rana': 'frog'}"
      ]
     },
     "execution_count": 67,
     "metadata": {},
     "output_type": "execute_result"
    }
   ],
   "source": [
    "# Variables del ejercicio (no modifiques esta línea)\n",
    "animales = {\"caballo\":\"\", \"vaca\":\"\"}\n",
    "\n",
    "# completa el ejercicio\n",
    "animales['perro'] = 'dog'\n",
    "animales['gato'] = 'cat'\n",
    "animales['rana'] = 'frog'\n",
    "animales['caballo'] = 'horse'\n",
    "animales['vaca'] = 'cow'\n",
    "del(animales['vaca'])\n",
    "del(animales['rana'])\n",
    "animales"
   ]
  },
  {
   "cell_type": "markdown",
   "id": "378ed258",
   "metadata": {},
   "source": [
    "# STACK AND QUEUE"
   ]
  },
  {
   "cell_type": "code",
   "execution_count": 68,
   "id": "43a30916",
   "metadata": {},
   "outputs": [],
   "source": [
    "pila = [3,4,5]"
   ]
  },
  {
   "cell_type": "code",
   "execution_count": 71,
   "id": "1dd3fe3a",
   "metadata": {},
   "outputs": [
    {
     "data": {
      "text/plain": [
       "[3, 4, 5, 6, 6, 7, 6, 7]"
      ]
     },
     "execution_count": 71,
     "metadata": {},
     "output_type": "execute_result"
    }
   ],
   "source": [
    "pila.append(6)\n",
    "pila.append(7)\n",
    "pila"
   ]
  },
  {
   "cell_type": "code",
   "execution_count": 73,
   "id": "6a5d8758",
   "metadata": {},
   "outputs": [
    {
     "data": {
      "text/plain": [
       "[3, 4, 5, 6, 6, 7]"
      ]
     },
     "execution_count": 73,
     "metadata": {},
     "output_type": "execute_result"
    }
   ],
   "source": [
    "pila.pop(6)\n",
    "pila"
   ]
  },
  {
   "cell_type": "code",
   "execution_count": 77,
   "id": "5cf63381",
   "metadata": {},
   "outputs": [
    {
     "data": {
      "text/plain": [
       "deque([])"
      ]
     },
     "execution_count": 77,
     "metadata": {},
     "output_type": "execute_result"
    }
   ],
   "source": [
    "from collections import deque \n",
    "cola = deque()\n",
    "cola"
   ]
  },
  {
   "cell_type": "code",
   "execution_count": 78,
   "id": "4f7a22ba",
   "metadata": {},
   "outputs": [],
   "source": [
    "cola = deque(['Hector', 'Juan', 'Miguel'])"
   ]
  },
  {
   "cell_type": "code",
   "execution_count": 79,
   "id": "cb8fa863",
   "metadata": {},
   "outputs": [],
   "source": [
    "cola.append('Maria')\n",
    "cola.append('Amanda')"
   ]
  },
  {
   "cell_type": "code",
   "execution_count": 80,
   "id": "b30b6a99",
   "metadata": {},
   "outputs": [
    {
     "data": {
      "text/plain": [
       "'Hector'"
      ]
     },
     "execution_count": 80,
     "metadata": {},
     "output_type": "execute_result"
    }
   ],
   "source": [
    "cola.popleft()"
   ]
  },
  {
   "cell_type": "code",
   "execution_count": null,
   "id": "1dd62ac0",
   "metadata": {},
   "outputs": [],
   "source": []
  }
 ],
 "metadata": {
  "kernelspec": {
   "display_name": "Python 3 (ipykernel)",
   "language": "python",
   "name": "python3"
  },
  "language_info": {
   "codemirror_mode": {
    "name": "ipython",
    "version": 3
   },
   "file_extension": ".py",
   "mimetype": "text/x-python",
   "name": "python",
   "nbconvert_exporter": "python",
   "pygments_lexer": "ipython3",
   "version": "3.9.13"
  }
 },
 "nbformat": 4,
 "nbformat_minor": 5
}
