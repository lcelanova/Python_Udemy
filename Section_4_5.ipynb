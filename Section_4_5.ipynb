{
 "cells": [
  {
   "cell_type": "markdown",
   "id": "725337c5",
   "metadata": {},
   "source": [
    "## LOGICAL OPERATORS"
   ]
  },
  {
   "cell_type": "code",
   "execution_count": 4,
   "id": "382770c0",
   "metadata": {},
   "outputs": [
    {
     "data": {
      "text/plain": [
       "True"
      ]
     },
     "execution_count": 4,
     "metadata": {},
     "output_type": "execute_result"
    }
   ],
   "source": [
    "(3 == 2) | (3 < 6)"
   ]
  },
  {
   "cell_type": "code",
   "execution_count": 5,
   "id": "a073e410",
   "metadata": {},
   "outputs": [
    {
     "data": {
      "text/plain": [
       "False"
      ]
     },
     "execution_count": 5,
     "metadata": {},
     "output_type": "execute_result"
    }
   ],
   "source": [
    "False and False"
   ]
  },
  {
   "cell_type": "code",
   "execution_count": 7,
   "id": "59f27900",
   "metadata": {},
   "outputs": [
    {
     "data": {
      "text/plain": [
       "True"
      ]
     },
     "execution_count": 7,
     "metadata": {},
     "output_type": "execute_result"
    }
   ],
   "source": [
    "c = \"Hello world\"\n",
    "len(c) >= 10 and c[0] == 'H'"
   ]
  },
  {
   "cell_type": "code",
   "execution_count": 9,
   "id": "15963310",
   "metadata": {},
   "outputs": [],
   "source": [
    "c = 'SOMETHING'\n",
    "if (c == 'EXIT' or c == 'END'):\n",
    "    print('True')"
   ]
  },
  {
   "cell_type": "code",
   "execution_count": 12,
   "id": "adf438b1",
   "metadata": {},
   "outputs": [
    {
     "name": "stdout",
     "output_type": "stream",
     "text": [
      "True\n"
     ]
    }
   ],
   "source": [
    "c = 'END'\n",
    "if (c == 'EXIT' or c == 'END'):\n",
    "    print('True')"
   ]
  },
  {
   "cell_type": "code",
   "execution_count": 22,
   "id": "c03b3ac8",
   "metadata": {},
   "outputs": [],
   "source": [
    "# completa el ejercicio\n",
    "edad = 24\n",
    "nombre = 'laura'\n",
    "if ((nombre != '****') and (edad > 10) and (edad < 18) and (len(nombre) > 3) and (len(nombre) < 10)):\n",
    "    expresion = True"
   ]
  },
  {
   "cell_type": "code",
   "execution_count": 25,
   "id": "0ad0b2ee",
   "metadata": {},
   "outputs": [
    {
     "name": "stdout",
     "output_type": "stream",
     "text": [
      "a is 5\n",
      "and b is 10\n"
     ]
    }
   ],
   "source": [
    "a = 5\n",
    "b = 10\n",
    "if a == 5:\n",
    "    print('a is', a)\n",
    "    if b == 10:\n",
    "        print('and b is', b)"
   ]
  },
  {
   "cell_type": "code",
   "execution_count": 28,
   "id": "6031bacb",
   "metadata": {},
   "outputs": [
    {
     "name": "stdout",
     "output_type": "stream",
     "text": [
      "a is 5 and b is 10\n"
     ]
    }
   ],
   "source": [
    "if a==5 and b==10:\n",
    "    print('a is 5 and b is 10')\n",
    "else:\n",
    "    print('a is not 5 or b is not 10')"
   ]
  },
  {
   "cell_type": "markdown",
   "id": "af77de5a",
   "metadata": {},
   "source": [
    "## LOOPS"
   ]
  },
  {
   "cell_type": "code",
   "execution_count": 29,
   "id": "aca88db5",
   "metadata": {},
   "outputs": [
    {
     "name": "stdout",
     "output_type": "stream",
     "text": [
      "3\n",
      "5\n"
     ]
    }
   ],
   "source": [
    "# Completa el ejercicio\n",
    "numero = int(input())\n",
    "while (numero % 5) != 0:\n",
    "    numero = int(input())"
   ]
  },
  {
   "cell_type": "code",
   "execution_count": 32,
   "id": "6d565260",
   "metadata": {},
   "outputs": [
    {
     "name": "stdout",
     "output_type": "stream",
     "text": [
      "1\n",
      "2\n",
      "3\n",
      "4\n",
      "5\n",
      "6\n",
      "7\n",
      "8\n",
      "9\n"
     ]
    }
   ],
   "source": [
    "numbers = [1,2,3,4,5,6,7,8,9]\n",
    "i = 0\n",
    "while (i < len(numbers)):\n",
    "    print(numbers[i])\n",
    "    i += 1"
   ]
  },
  {
   "cell_type": "code",
   "execution_count": 33,
   "id": "f5ed4ca0",
   "metadata": {},
   "outputs": [
    {
     "name": "stdout",
     "output_type": "stream",
     "text": [
      "1\n",
      "2\n",
      "3\n",
      "4\n",
      "5\n",
      "6\n",
      "7\n",
      "8\n",
      "9\n"
     ]
    }
   ],
   "source": [
    "for number in numbers:\n",
    "    print(number)"
   ]
  },
  {
   "cell_type": "code",
   "execution_count": 34,
   "id": "1530c57f",
   "metadata": {},
   "outputs": [
    {
     "name": "stdout",
     "output_type": "stream",
     "text": [
      "H\n",
      "e\n",
      "l\n",
      "l\n",
      "o\n",
      " \n",
      "f\n",
      "r\n",
      "i\n",
      "e\n",
      "n\n",
      "d\n",
      "s\n"
     ]
    }
   ],
   "source": [
    "string = 'Hello friends'\n",
    "for letter in string:\n",
    "    print(letter)"
   ]
  },
  {
   "cell_type": "code",
   "execution_count": 38,
   "id": "3f82852d",
   "metadata": {},
   "outputs": [
    {
     "data": {
      "text/plain": [
       "'HHeelllloo  ffrriieennddss'"
      ]
     },
     "execution_count": 38,
     "metadata": {},
     "output_type": "execute_result"
    }
   ],
   "source": [
    "string2 = ''\n",
    "for letter in string:\n",
    "    string2 += letter *2\n",
    "string2"
   ]
  },
  {
   "cell_type": "code",
   "execution_count": 39,
   "id": "c57e432f",
   "metadata": {},
   "outputs": [
    {
     "data": {
      "text/plain": [
       "range(0, 10)"
      ]
     },
     "execution_count": 39,
     "metadata": {},
     "output_type": "execute_result"
    }
   ],
   "source": [
    "range(10)"
   ]
  },
  {
   "cell_type": "code",
   "execution_count": 41,
   "id": "f0e0c0c9",
   "metadata": {},
   "outputs": [
    {
     "name": "stdout",
     "output_type": "stream",
     "text": [
      "1\n",
      "2\n",
      "3\n",
      "4\n",
      "5\n",
      "6\n",
      "7\n",
      "8\n",
      "9\n"
     ]
    }
   ],
   "source": [
    "for i in numbers:\n",
    "    print(i)\n"
   ]
  },
  {
   "cell_type": "code",
   "execution_count": 61,
   "id": "17a11109",
   "metadata": {},
   "outputs": [
    {
     "data": {
      "text/plain": [
       "16"
      ]
     },
     "execution_count": 61,
     "metadata": {},
     "output_type": "execute_result"
    }
   ],
   "source": [
    "numero = 7\n",
    "sumatorio = 0\n",
    "\n",
    "# Completa el ejercicio aquí\n",
    "for i in range(1,numero + 1):\n",
    "    if (i % 5 != 0) and (i % 7 != 0):\n",
    "        sumatorio += i\n",
    "sumatorio"
   ]
  },
  {
   "cell_type": "code",
   "execution_count": 64,
   "id": "4c659d83",
   "metadata": {},
   "outputs": [
    {
     "name": "stdout",
     "output_type": "stream",
     "text": [
      "Hellos\n",
      "4\n",
      "Bye\n",
      "[1, 2, 3]\n"
     ]
    }
   ],
   "source": [
    "elements = ['Hellos', 4, 'Bye', [1,2,3]]\n",
    "for e in elements:\n",
    "    print(e)"
   ]
  },
  {
   "cell_type": "code",
   "execution_count": 65,
   "id": "b853e745",
   "metadata": {},
   "outputs": [],
   "source": [
    "[a,b,c] = [10,50,100]"
   ]
  },
  {
   "cell_type": "code",
   "execution_count": 66,
   "id": "c0816777",
   "metadata": {},
   "outputs": [
    {
     "name": "stdout",
     "output_type": "stream",
     "text": [
      "10\n"
     ]
    }
   ],
   "source": [
    "print(a)"
   ]
  },
  {
   "cell_type": "code",
   "execution_count": 83,
   "id": "b5b8fffe",
   "metadata": {},
   "outputs": [
    {
     "name": "stdout",
     "output_type": "stream",
     "text": [
      "H\n",
      "M\n"
     ]
    }
   ],
   "source": [
    "iniciales = [\"Hola\", \"Mundo\"]\n",
    "for i, e in enumerate(iniciales):\n",
    "    iniciales[i] = iniciales[i][0]\n",
    "    print(iniciales[i])\n",
    "    "
   ]
  },
  {
   "cell_type": "code",
   "execution_count": 114,
   "id": "10e46f79",
   "metadata": {},
   "outputs": [
    {
     "name": "stdout",
     "output_type": "stream",
     "text": [
      "Introduce un número entero del 1 al 9: 100\n",
      "Introduce un número entero del 1 al 9: 2\n",
      "[0, 1, 2]\n"
     ]
    }
   ],
   "source": [
    "multiplos = []\n",
    "# Completa el ejercicio \n",
    "numero = 0\n",
    "while numero < 1 or numero > 9:\n",
    "    numero = int(input(\"Introduce un número entero del 1 al 9: \"))\n",
    "\n",
    "# Generamos la lista de múltiplos\n",
    "multiplos = list(range(0,numero + 1, 1))\n",
    "\n",
    "# Imprimimos la lista por pantalla\n",
    "print(multiplos)"
   ]
  },
  {
   "cell_type": "code",
   "execution_count": 119,
   "id": "47b6d94a",
   "metadata": {},
   "outputs": [],
   "source": [
    "list1 = [\n",
    "    'This is a string',\n",
    "    (1,5,10,25,10,25),\n",
    "    ['Blue', 'Green', 'Yellow']\n",
    "]"
   ]
  },
  {
   "cell_type": "code",
   "execution_count": 120,
   "id": "b7838986",
   "metadata": {},
   "outputs": [
    {
     "name": "stdout",
     "output_type": "stream",
     "text": [
      "This is a string\n",
      "(1, 5, 10, 25, 10, 25)\n",
      "['Blue', 'Green', 'Yellow']\n"
     ]
    }
   ],
   "source": [
    "for element in list1:\n",
    "    print(element)"
   ]
  },
  {
   "cell_type": "code",
   "execution_count": 125,
   "id": "3954e9ed",
   "metadata": {},
   "outputs": [
    {
     "name": "stdout",
     "output_type": "stream",
     "text": [
      "This is a string -> T\n",
      "This is a string -> h\n",
      "This is a string -> i\n",
      "This is a string -> s\n",
      "This is a string ->  \n",
      "This is a string -> i\n",
      "This is a string -> s\n",
      "This is a string ->  \n",
      "This is a string -> a\n",
      "This is a string ->  \n",
      "This is a string -> s\n",
      "This is a string -> t\n",
      "This is a string -> r\n",
      "This is a string -> i\n",
      "This is a string -> n\n",
      "This is a string -> g\n",
      "(1, 5, 10, 25, 10, 25) -> 1\n",
      "(1, 5, 10, 25, 10, 25) -> 5\n",
      "(1, 5, 10, 25, 10, 25) -> 10\n",
      "(1, 5, 10, 25, 10, 25) -> 25\n",
      "(1, 5, 10, 25, 10, 25) -> 10\n",
      "(1, 5, 10, 25, 10, 25) -> 25\n",
      "['Blue', 'Green', 'Yellow'] -> Blue\n",
      "['Blue', 'Green', 'Yellow'] -> Green\n",
      "['Blue', 'Green', 'Yellow'] -> Yellow\n"
     ]
    }
   ],
   "source": [
    "for element in list1:\n",
    "    for i in element:\n",
    "        print(element, \"->\", i)"
   ]
  },
  {
   "cell_type": "code",
   "execution_count": 127,
   "id": "79d67b3b",
   "metadata": {},
   "outputs": [
    {
     "name": "stdout",
     "output_type": "stream",
     "text": [
      "(0, 'This is a string') -> (0, 0)\n",
      "(0, 'This is a string') -> (1, 'This is a string')\n",
      "(1, (1, 5, 10, 25, 10, 25)) -> (0, 1)\n",
      "(1, (1, 5, 10, 25, 10, 25)) -> (1, (1, 5, 10, 25, 10, 25))\n",
      "(2, ['Blue', 'Green', 'Yellow']) -> (0, 2)\n",
      "(2, ['Blue', 'Green', 'Yellow']) -> (1, ['Blue', 'Green', 'Yellow'])\n"
     ]
    }
   ],
   "source": []
  },
  {
   "cell_type": "code",
   "execution_count": 144,
   "id": "88f6a22b",
   "metadata": {},
   "outputs": [],
   "source": [
    "matriz = [\n",
    "    [8,  7,  0],\n",
    "    [34, 2, -1],\n",
    "    [5, -5, 12]\n",
    "]\n",
    "# Completa el ejercicio aquí\n",
    "for i, row in enumerate(matriz):\n",
    "     for j, value in enumerate(row):\n",
    "        if (matriz[i][j] % 2) == 0:\n",
    "             matriz[i][j] = 0\n",
    "        else:\n",
    "            matriz[i][j] = 1"
   ]
  },
  {
   "cell_type": "code",
   "execution_count": null,
   "id": "a9125db6",
   "metadata": {},
   "outputs": [],
   "source": []
  }
 ],
 "metadata": {
  "kernelspec": {
   "display_name": "Python 3 (ipykernel)",
   "language": "python",
   "name": "python3"
  },
  "language_info": {
   "codemirror_mode": {
    "name": "ipython",
    "version": 3
   },
   "file_extension": ".py",
   "mimetype": "text/x-python",
   "name": "python",
   "nbconvert_exporter": "python",
   "pygments_lexer": "ipython3",
   "version": "3.9.13"
  }
 },
 "nbformat": 4,
 "nbformat_minor": 5
}
