{
 "cells": [
  {
   "cell_type": "markdown",
   "id": "3567d23a",
   "metadata": {},
   "source": [
    " # NUMBERS"
   ]
  },
  {
   "cell_type": "markdown",
   "id": "1305e74c",
   "metadata": {},
   "source": [
    "### OPERATIONS"
   ]
  },
  {
   "cell_type": "code",
   "execution_count": 13,
   "id": "d03b937a",
   "metadata": {},
   "outputs": [
    {
     "data": {
      "text/plain": [
       "4"
      ]
     },
     "execution_count": 13,
     "metadata": {},
     "output_type": "execute_result"
    }
   ],
   "source": [
    "#Multiplication\n",
    "n = 2\n",
    "2 * 2"
   ]
  },
  {
   "cell_type": "code",
   "execution_count": 14,
   "id": "f5ea8a3f",
   "metadata": {},
   "outputs": [
    {
     "data": {
      "text/plain": [
       "32"
      ]
     },
     "execution_count": 14,
     "metadata": {},
     "output_type": "execute_result"
    }
   ],
   "source": [
    "#Power\n",
    "n**5"
   ]
  },
  {
   "cell_type": "code",
   "execution_count": 15,
   "id": "43081349",
   "metadata": {},
   "outputs": [
    {
     "data": {
      "text/plain": [
       "28.5"
      ]
     },
     "execution_count": 15,
     "metadata": {},
     "output_type": "execute_result"
    }
   ],
   "source": [
    "#Mix\n",
    "2 + 2 * 3 / 4 + 5 ** 2"
   ]
  },
  {
   "cell_type": "code",
   "execution_count": 16,
   "id": "4c058647",
   "metadata": {},
   "outputs": [
    {
     "data": {
      "text/plain": [
       "7.5"
      ]
     },
     "execution_count": 16,
     "metadata": {},
     "output_type": "execute_result"
    }
   ],
   "source": [
    "#Average\n",
    "grade_1 = 5\n",
    "grade_2 = 10\n",
    "average_grade = (grade_1 + grade_2) / 2\n",
    "average_grade"
   ]
  },
  {
   "cell_type": "code",
   "execution_count": 20,
   "id": "7109d92e",
   "metadata": {},
   "outputs": [
    {
     "data": {
      "text/plain": [
       "7.6"
      ]
     },
     "execution_count": 20,
     "metadata": {},
     "output_type": "execute_result"
    }
   ],
   "source": [
    "# Variables del ejercicio (no las modifiques)\n",
    "nota_1 = 10\n",
    "nota_2 = 6\n",
    "\n",
    "# Calcula correctamente la nota_final (no modifiques el nombre de la variable)\n",
    "nota_final = (nota_1*0.4 + nota_2*0.6)\n",
    "nota_final "
   ]
  },
  {
   "cell_type": "code",
   "execution_count": null,
   "id": "ce47bc77",
   "metadata": {},
   "outputs": [],
   "source": []
  },
  {
   "cell_type": "markdown",
   "id": "d70c00dc",
   "metadata": {},
   "source": [
    "# TEXT"
   ]
  },
  {
   "cell_type": "markdown",
   "id": "52ed4a75",
   "metadata": {},
   "source": [
    "### PRINT"
   ]
  },
  {
   "cell_type": "code",
   "execution_count": 23,
   "id": "c27e33bf",
   "metadata": {},
   "outputs": [
    {
     "data": {
      "text/plain": [
       "'Hello World'"
      ]
     },
     "execution_count": 23,
     "metadata": {},
     "output_type": "execute_result"
    }
   ],
   "source": [
    "'Hello World'"
   ]
  },
  {
   "cell_type": "code",
   "execution_count": 24,
   "id": "908ddc27",
   "metadata": {},
   "outputs": [
    {
     "data": {
      "text/plain": [
       "'Hello World'"
      ]
     },
     "execution_count": 24,
     "metadata": {},
     "output_type": "execute_result"
    }
   ],
   "source": [
    "\"Hello World\""
   ]
  },
  {
   "cell_type": "code",
   "execution_count": 25,
   "id": "92e6c490",
   "metadata": {},
   "outputs": [
    {
     "data": {
      "text/plain": [
       "'This text includes \" \" '"
      ]
     },
     "execution_count": 25,
     "metadata": {},
     "output_type": "execute_result"
    }
   ],
   "source": [
    "'This text includes \" \" '"
   ]
  },
  {
   "cell_type": "code",
   "execution_count": 26,
   "id": "10635fce",
   "metadata": {},
   "outputs": [
    {
     "data": {
      "text/plain": [
       "\"This 'word' is written in quotation marks\""
      ]
     },
     "execution_count": 26,
     "metadata": {},
     "output_type": "execute_result"
    }
   ],
   "source": [
    "\"This 'word' is written in quotation marks\""
   ]
  },
  {
   "cell_type": "code",
   "execution_count": 27,
   "id": "d8fe2a0f",
   "metadata": {},
   "outputs": [
    {
     "data": {
      "text/plain": [
       "\"This 'word' is written in quotation marks\""
      ]
     },
     "execution_count": 27,
     "metadata": {},
     "output_type": "execute_result"
    }
   ],
   "source": [
    "'This \\'word\\' is written in quotation marks'"
   ]
  },
  {
   "cell_type": "code",
   "execution_count": 28,
   "id": "99b31f1b",
   "metadata": {},
   "outputs": [
    {
     "name": "stdout",
     "output_type": "stream",
     "text": [
      "String\n",
      "Another string\n",
      "Another string\n"
     ]
    }
   ],
   "source": [
    "print(\"String\")\n",
    "print(\"Another string\")\n",
    "print(\"One string more\")"
   ]
  },
  {
   "cell_type": "code",
   "execution_count": 29,
   "id": "530bdb6d",
   "metadata": {},
   "outputs": [
    {
     "name": "stdout",
     "output_type": "stream",
     "text": [
      "C:\n",
      "ame\\dir\n"
     ]
    }
   ],
   "source": [
    "print(\"C:\\name\\dir\")"
   ]
  },
  {
   "cell_type": "code",
   "execution_count": 30,
   "id": "a14febc2",
   "metadata": {},
   "outputs": [
    {
     "name": "stdout",
     "output_type": "stream",
     "text": [
      "C:\\name\\dir\n"
     ]
    }
   ],
   "source": [
    "print(r\"C:\\name\\dir\")"
   ]
  },
  {
   "cell_type": "code",
   "execution_count": 31,
   "id": "1c97ace9",
   "metadata": {},
   "outputs": [
    {
     "name": "stdout",
     "output_type": "stream",
     "text": [
      "This is a string\n"
     ]
    }
   ],
   "source": [
    " print(\"This is\" \" a string\")"
   ]
  },
  {
   "cell_type": "code",
   "execution_count": 35,
   "id": "4087cccd",
   "metadata": {},
   "outputs": [
    {
     "name": "stdout",
     "output_type": "stream",
     "text": [
      "This is String and Another string\n"
     ]
    }
   ],
   "source": [
    "c1 = \"String\"\n",
    "c2 = \"Another string\"\n",
    "print(\"This is \" + c1 + \" and \"+ c2)\n"
   ]
  },
  {
   "cell_type": "code",
   "execution_count": 37,
   "id": "c613c5e6",
   "metadata": {},
   "outputs": [
    {
     "name": "stdout",
     "output_type": "stream",
     "text": [
      "          ten spaces: \n"
     ]
    }
   ],
   "source": [
    "ten_spaces = \" \" * 10\n",
    "print(ten_spaces + \"ten spaces: \")"
   ]
  },
  {
   "cell_type": "code",
   "execution_count": 39,
   "id": "c0faf254",
   "metadata": {},
   "outputs": [
    {
     "data": {
      "text/plain": [
       "'Python es un lenguaje de programación moderno'"
      ]
     },
     "execution_count": 39,
     "metadata": {},
     "output_type": "execute_result"
    }
   ],
   "source": [
    "# no modifiques el nombre de ninguna variable, pero puedes crear nuevas\n",
    "cadena1 = \"moderno\"\n",
    "cadena2 = \"Python\"\n",
    "cadena4 = \"de programación\"\n",
    "cadena3 = \"es un lenguaje\"\n",
    "\n",
    "# completa el ejercicio\n",
    "cadena5 = cadena2 + \" \" + cadena3 + \" \" + cadena4 + \" \" + cadena1\n",
    "cadena5"
   ]
  },
  {
   "cell_type": "code",
   "execution_count": 42,
   "id": "86af7aaa",
   "metadata": {},
   "outputs": [
    {
     "data": {
      "text/plain": [
       "'Python'"
      ]
     },
     "execution_count": 42,
     "metadata": {},
     "output_type": "execute_result"
    }
   ],
   "source": [
    "word = \"Python\"\n",
    "word[:20]"
   ]
  },
  {
   "cell_type": "code",
   "execution_count": 79,
   "id": "2d9f1ede",
   "metadata": {},
   "outputs": [
    {
     "data": {
      "text/plain": [
       "'Ramón García ha sacado un 7.6 en Historia'"
      ]
     },
     "execution_count": 79,
     "metadata": {},
     "output_type": "execute_result"
    }
   ],
   "source": [
    "# Variables del ejercicio (no las modifiques)\n",
    "cadena_corrupta = \"airotsiH,6.7,aícraG nómaR\"\n",
    "\n",
    "# Completa el ejercicio\n",
    "cadena_volteada = cadena_corrupta[::-1]\n",
    "nombre = cadena_volteada[:12]\n",
    "nota = cadena_volteada[13:16]\n",
    "materia = cadena_volteada[17:]\n",
    "cadena_formateada = nombre + \" ha sacado un \" + nota + \" en \" + materia\n",
    "cadena_formateada"
   ]
  },
  {
   "cell_type": "markdown",
   "id": "155ef7f1",
   "metadata": {},
   "source": [
    "# LISTS"
   ]
  },
  {
   "cell_type": "code",
   "execution_count": 83,
   "id": "98b42d7e",
   "metadata": {},
   "outputs": [
    {
     "data": {
      "text/plain": [
       "['a', 'b', 'c', 'd', 'e', 'f']"
      ]
     },
     "execution_count": 83,
     "metadata": {},
     "output_type": "execute_result"
    }
   ],
   "source": [
    "letras = ['a','b','c','d','e','f']\n",
    "letras"
   ]
  },
  {
   "cell_type": "code",
   "execution_count": 84,
   "id": "ef83a89d",
   "metadata": {},
   "outputs": [
    {
     "data": {
      "text/plain": [
       "6"
      ]
     },
     "execution_count": 84,
     "metadata": {},
     "output_type": "execute_result"
    }
   ],
   "source": [
    "len(letras)"
   ]
  },
  {
   "cell_type": "code",
   "execution_count": 85,
   "id": "45c0d371",
   "metadata": {},
   "outputs": [
    {
     "data": {
      "text/plain": [
       "['a', 'b', 'c']"
      ]
     },
     "execution_count": 85,
     "metadata": {},
     "output_type": "execute_result"
    }
   ],
   "source": [
    "letras[:3]"
   ]
  },
  {
   "cell_type": "code",
   "execution_count": 86,
   "id": "28c90cae",
   "metadata": {},
   "outputs": [],
   "source": [
    "a = [1,2,3]\n",
    "b = [4,5,6]\n",
    "c = [7,8,9]"
   ]
  },
  {
   "cell_type": "code",
   "execution_count": 88,
   "id": "076ceef4",
   "metadata": {},
   "outputs": [
    {
     "data": {
      "text/plain": [
       "[[1, 2, 3], [4, 5, 6], [7, 8, 9]]"
      ]
     },
     "execution_count": 88,
     "metadata": {},
     "output_type": "execute_result"
    }
   ],
   "source": [
    "d = [a,b,c]\n",
    "d"
   ]
  },
  {
   "cell_type": "code",
   "execution_count": 89,
   "id": "07cecf88",
   "metadata": {},
   "outputs": [
    {
     "data": {
      "text/plain": [
       "[[1, 2, 3], [4, 5, 6]]"
      ]
     },
     "execution_count": 89,
     "metadata": {},
     "output_type": "execute_result"
    }
   ],
   "source": [
    "d[:-1]"
   ]
  },
  {
   "cell_type": "code",
   "execution_count": 103,
   "id": "a8aa4ab7",
   "metadata": {},
   "outputs": [
    {
     "data": {
      "text/plain": [
       "[[['Ciao', 'Agur', 'Adieu', 'Adiós'], [1, 12, 123, 1234]]]"
      ]
     },
     "execution_count": 103,
     "metadata": {},
     "output_type": "execute_result"
    }
   ],
   "source": [
    "# no modifiques el nombre de ninguna variable, puedes crear nuevas\n",
    "lista1 = [1, 12, 123]\n",
    "lista2 = [\"Bye\", \"Ciao\", \"Agur\", \"Adieu\"]\n",
    "\n",
    "# completa el ejercicio\n",
    "lista1.append(1234)\n",
    "lista1.append('Hola')\n",
    "lista2.append('Adiós')\n",
    "lista2.append(1234)\n",
    "lista3 = lista1[:-1]\n",
    "lista4 = lista2[1:-1]\n",
    "lista5 = lista4 + lista3\n",
    "lista5"
   ]
  },
  {
   "cell_type": "markdown",
   "id": "feb35770",
   "metadata": {},
   "source": [
    "# Keyboard input"
   ]
  },
  {
   "cell_type": "code",
   "execution_count": 104,
   "id": "458bab6a",
   "metadata": {},
   "outputs": [
    {
     "name": "stdout",
     "output_type": "stream",
     "text": [
      "2\n"
     ]
    }
   ],
   "source": [
    "value = input()"
   ]
  },
  {
   "cell_type": "code",
   "execution_count": 111,
   "id": "ee99fff5",
   "metadata": {},
   "outputs": [
    {
     "data": {
      "text/plain": [
       "102"
      ]
     },
     "execution_count": 111,
     "metadata": {},
     "output_type": "execute_result"
    }
   ],
   "source": [
    "int(value) + 100\n"
   ]
  },
  {
   "cell_type": "code",
   "execution_count": 113,
   "id": "6f409366",
   "metadata": {},
   "outputs": [
    {
     "name": "stdout",
     "output_type": "stream",
     "text": [
      "introduce a float:3.14\n"
     ]
    }
   ],
   "source": [
    "value = float(input(\"introduce a float:\"))"
   ]
  },
  {
   "cell_type": "code",
   "execution_count": 114,
   "id": "ac30f5a4",
   "metadata": {
    "scrolled": true
   },
   "outputs": [
    {
     "data": {
      "text/plain": [
       "3.14"
      ]
     },
     "execution_count": 114,
     "metadata": {},
     "output_type": "execute_result"
    }
   ],
   "source": [
    "value\n"
   ]
  },
  {
   "cell_type": "code",
   "execution_count": 117,
   "id": "55e8114a",
   "metadata": {},
   "outputs": [
    {
     "name": "stdout",
     "output_type": "stream",
     "text": [
      "laura\n",
      "muñoz\n",
      "26\n",
      "3\n"
     ]
    }
   ],
   "source": [
    "nombre = str(input())\n",
    "apellido = str(input())\n",
    "edad = int(input())\n",
    "numero_magico = float(input())\n",
    "numero = edad*numero_magico\n",
    "cadena_final = f'{nombre} {apellido}: Tu número de la suerte es el {edad*numero_magico}'"
   ]
  },
  {
   "cell_type": "code",
   "execution_count": 118,
   "id": "4dd73164",
   "metadata": {},
   "outputs": [
    {
     "data": {
      "text/plain": [
       "'laura muñoz: Tu número de la suerte es el 78.0'"
      ]
     },
     "execution_count": 118,
     "metadata": {},
     "output_type": "execute_result"
    }
   ],
   "source": [
    "cadena_final"
   ]
  },
  {
   "cell_type": "code",
   "execution_count": 130,
   "id": "9c858080",
   "metadata": {},
   "outputs": [
    {
     "name": "stdout",
     "output_type": "stream",
     "text": [
      "6774\n"
     ]
    }
   ],
   "source": [
    "n = int(input())"
   ]
  },
  {
   "cell_type": "code",
   "execution_count": 131,
   "id": "37224dda",
   "metadata": {},
   "outputs": [
    {
     "name": "stdout",
     "output_type": "stream",
     "text": [
      "6774 es un numero par\n"
     ]
    }
   ],
   "source": [
    "if (n % 2) == 0:\n",
    "    print(f'{n} es un numero par')\n",
    "else:\n",
    "    print(f'{n} es un numero impar')"
   ]
  },
  {
   "cell_type": "code",
   "execution_count": 132,
   "id": "70dc0088",
   "metadata": {},
   "outputs": [
    {
     "data": {
      "text/plain": [
       "5"
      ]
     },
     "execution_count": 132,
     "metadata": {},
     "output_type": "execute_result"
    }
   ],
   "source": [
    "lista = [1,2,3,\"Hola mundo\", [4,5,6] ]\n",
    "\n",
    "lista[-1][1]"
   ]
  }
 ],
 "metadata": {
  "kernelspec": {
   "display_name": "Python 3 (ipykernel)",
   "language": "python",
   "name": "python3"
  },
  "language_info": {
   "codemirror_mode": {
    "name": "ipython",
    "version": 3
   },
   "file_extension": ".py",
   "mimetype": "text/x-python",
   "name": "python",
   "nbconvert_exporter": "python",
   "pygments_lexer": "ipython3",
   "version": "3.9.13"
  }
 },
 "nbformat": 4,
 "nbformat_minor": 5
}
