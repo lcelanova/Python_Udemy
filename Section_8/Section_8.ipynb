{
 "cells": [
  {
   "cell_type": "code",
   "execution_count": 1,
   "id": "d57850f7",
   "metadata": {},
   "outputs": [
    {
     "name": "stdout",
     "output_type": "stream",
     "text": [
      "Introduce a decimal number2.3\n"
     ]
    }
   ],
   "source": [
    "decimal = float(input('Introduce a decimal number'))"
   ]
  },
  {
   "cell_type": "code",
   "execution_count": 4,
   "id": "1433759a",
   "metadata": {},
   "outputs": [],
   "source": [
    "numbers = []"
   ]
  },
  {
   "cell_type": "code",
   "execution_count": 5,
   "id": "8b4f13aa",
   "metadata": {},
   "outputs": [
    {
     "name": "stdout",
     "output_type": "stream",
     "text": [
      "Introduce three numbers\n",
      "Introduce a number >1\n",
      "Introduce a number >2\n",
      "Introduce a number >5\n"
     ]
    }
   ],
   "source": [
    "print('Introduce three numbers')\n",
    "for x in range(3):\n",
    "    numbers.append(input('Introduce a number >'))"
   ]
  },
  {
   "cell_type": "code",
   "execution_count": 6,
   "id": "1a468e68",
   "metadata": {},
   "outputs": [
    {
     "data": {
      "text/plain": [
       "['1', '2', '5']"
      ]
     },
     "execution_count": 6,
     "metadata": {},
     "output_type": "execute_result"
    }
   ],
   "source": [
    "numbers"
   ]
  },
  {
   "cell_type": "code",
   "execution_count": null,
   "id": "36a6d9ee",
   "metadata": {},
   "outputs": [],
   "source": []
  },
  {
   "cell_type": "code",
   "execution_count": null,
   "id": "e17e1998",
   "metadata": {},
   "outputs": [],
   "source": []
  }
 ],
 "metadata": {
  "kernelspec": {
   "display_name": "Python 3 (ipykernel)",
   "language": "python",
   "name": "python3"
  },
  "language_info": {
   "codemirror_mode": {
    "name": "ipython",
    "version": 3
   },
   "file_extension": ".py",
   "mimetype": "text/x-python",
   "name": "python",
   "nbconvert_exporter": "python",
   "pygments_lexer": "ipython3",
   "version": "3.9.13"
  }
 },
 "nbformat": 4,
 "nbformat_minor": 5
}
