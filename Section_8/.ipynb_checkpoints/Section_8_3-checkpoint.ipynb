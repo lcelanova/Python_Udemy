{
 "cells": [
  {
   "cell_type": "code",
   "execution_count": 2,
   "id": "b7111448",
   "metadata": {},
   "outputs": [
    {
     "name": "stdout",
     "output_type": "stream",
     "text": [
      "a text: text and a number: 10\n"
     ]
    }
   ],
   "source": [
    "v = 'text'\n",
    "n = 10\n",
    "print('a text:', v, 'and a number:', n)"
   ]
  },
  {
   "cell_type": "code",
   "execution_count": 4,
   "id": "7f9a80ee",
   "metadata": {},
   "outputs": [],
   "source": [
    "c = \"a text '{}' and a number '{}'\".format(v,n)"
   ]
  },
  {
   "cell_type": "code",
   "execution_count": 5,
   "id": "ca82ad1d",
   "metadata": {},
   "outputs": [
    {
     "name": "stdout",
     "output_type": "stream",
     "text": [
      "a text 'text' and a number '10'\n"
     ]
    }
   ],
   "source": [
    "print(c)"
   ]
  },
  {
   "cell_type": "code",
   "execution_count": 6,
   "id": "7b29da07",
   "metadata": {},
   "outputs": [
    {
     "data": {
      "text/plain": [
       "\"a text 'text' and a number '10'\""
      ]
     },
     "execution_count": 6,
     "metadata": {},
     "output_type": "execute_result"
    }
   ],
   "source": [
    "\"a text '{texto}' and a number '{number}'\".format(texto=v,number=n)"
   ]
  },
  {
   "cell_type": "code",
   "execution_count": 8,
   "id": "a54f8f5b",
   "metadata": {},
   "outputs": [
    {
     "name": "stdout",
     "output_type": "stream",
     "text": [
      "                          word\n"
     ]
    }
   ],
   "source": [
    "print(\"{:>30}\".format(\"word\"))"
   ]
  },
  {
   "cell_type": "code",
   "execution_count": 9,
   "id": "b332c78e",
   "metadata": {},
   "outputs": [
    {
     "name": "stdout",
     "output_type": "stream",
     "text": [
      "word                          \n"
     ]
    }
   ],
   "source": [
    "print(\"{:<30}\".format(\"word\"))"
   ]
  },
  {
   "cell_type": "code",
   "execution_count": 11,
   "id": "dae4ee1b",
   "metadata": {},
   "outputs": [
    {
     "name": "stdout",
     "output_type": "stream",
     "text": [
      "             word             \n"
     ]
    }
   ],
   "source": [
    "print(\"{:^30}\".format(\"word\"))"
   ]
  },
  {
   "cell_type": "code",
   "execution_count": 12,
   "id": "fb72c573",
   "metadata": {},
   "outputs": [
    {
     "name": "stdout",
     "output_type": "stream",
     "text": [
      "wor\n"
     ]
    }
   ],
   "source": [
    "print(\"{:.3}\".format(\"word\"))"
   ]
  },
  {
   "cell_type": "code",
   "execution_count": 13,
   "id": "3d4bb57d",
   "metadata": {},
   "outputs": [
    {
     "name": "stdout",
     "output_type": "stream",
     "text": [
      "                           wor\n"
     ]
    }
   ],
   "source": [
    "print(\"{:>30.3}\".format(\"word\"))"
   ]
  },
  {
   "cell_type": "code",
   "execution_count": 15,
   "id": "e63ad5f5",
   "metadata": {},
   "outputs": [
    {
     "name": "stdout",
     "output_type": "stream",
     "text": [
      "  10\n",
      " 100\n",
      "1000\n"
     ]
    }
   ],
   "source": [
    "print(\"{:4d}\".format(10))\n",
    "print(\"{:4d}\".format(100))\n",
    "print(\"{:4d}\".format(1000))"
   ]
  },
  {
   "cell_type": "code",
   "execution_count": 16,
   "id": "a4f10aff",
   "metadata": {},
   "outputs": [
    {
     "name": "stdout",
     "output_type": "stream",
     "text": [
      "la suma de a 10 y b 5 es 15\n"
     ]
    }
   ],
   "source": [
    "a = 10\n",
    "b = 5\n",
    "print(f'la suma de a {a} y b {b} es {a + b}')"
   ]
  },
  {
   "cell_type": "code",
   "execution_count": 20,
   "id": "019150f0",
   "metadata": {},
   "outputs": [
    {
     "name": "stdout",
     "output_type": "stream",
     "text": [
      "Hel                                     \n"
     ]
    }
   ],
   "source": [
    "print(f'{\"Hello word\":40.3}')"
   ]
  },
  {
   "cell_type": "code",
   "execution_count": null,
   "id": "6e7eaf40",
   "metadata": {},
   "outputs": [],
   "source": []
  }
 ],
 "metadata": {
  "kernelspec": {
   "display_name": "Python 3 (ipykernel)",
   "language": "python",
   "name": "python3"
  },
  "language_info": {
   "codemirror_mode": {
    "name": "ipython",
    "version": 3
   },
   "file_extension": ".py",
   "mimetype": "text/x-python",
   "name": "python",
   "nbconvert_exporter": "python",
   "pygments_lexer": "ipython3",
   "version": "3.9.13"
  }
 },
 "nbformat": 4,
 "nbformat_minor": 5
}
