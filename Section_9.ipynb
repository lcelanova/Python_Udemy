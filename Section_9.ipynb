{
 "cells": [
  {
   "cell_type": "markdown",
   "id": "0f18b3ed",
   "metadata": {},
   "source": [
    "# FUNCTIONS"
   ]
  },
  {
   "cell_type": "code",
   "execution_count": 3,
   "id": "c795f8f1",
   "metadata": {},
   "outputs": [
    {
     "name": "stdout",
     "output_type": "stream",
     "text": [
      "Hello there!\n"
     ]
    }
   ],
   "source": [
    "def greeting():\n",
    "    print(\"Hello there!\")\n",
    "    \n",
    "greeting()"
   ]
  },
  {
   "cell_type": "code",
   "execution_count": 8,
   "id": "e2bfd96c",
   "metadata": {},
   "outputs": [
    {
     "name": "stdout",
     "output_type": "stream",
     "text": [
      " 5 * 0 = 0 \n",
      " 5 * 1 = 5 \n",
      " 5 * 2 = 10 \n",
      " 5 * 3 = 15 \n",
      " 5 * 4 = 20 \n",
      " 5 * 5 = 25 \n",
      " 5 * 6 = 30 \n",
      " 5 * 7 = 35 \n",
      " 5 * 8 = 40 \n",
      " 5 * 9 = 45 \n"
     ]
    }
   ],
   "source": [
    "def draw_5_table():\n",
    "    for i in range(10):\n",
    "        print(f\" 5 * {i} = {5 * i} \")\n",
    "draw_5_table()"
   ]
  },
  {
   "cell_type": "code",
   "execution_count": 13,
   "id": "1df032a7",
   "metadata": {},
   "outputs": [
    {
     "data": {
      "text/plain": [
       "5"
      ]
     },
     "execution_count": 13,
     "metadata": {},
     "output_type": "execute_result"
    }
   ],
   "source": [
    "def test():\n",
    "    return [1,2,3,4,5]\n",
    "\n",
    "c = test()[-1]\n",
    "c"
   ]
  },
  {
   "cell_type": "code",
   "execution_count": 17,
   "id": "2be75782",
   "metadata": {},
   "outputs": [
    {
     "name": "stdout",
     "output_type": "stream",
     "text": [
      "PAR\n",
      "IMPAR\n"
     ]
    }
   ],
   "source": [
    "def par_o_impar(numero):\n",
    "    if numero % 2 == 0:\n",
    "        print('PAR')\n",
    "    else:\n",
    "        print('IMPAR')\n",
    "        \n",
    "par_o_impar(2)\n",
    "par_o_impar(3)"
   ]
  },
  {
   "cell_type": "code",
   "execution_count": 22,
   "id": "c6b1962f",
   "metadata": {},
   "outputs": [
    {
     "data": {
      "text/plain": [
       "6"
      ]
     },
     "execution_count": 22,
     "metadata": {},
     "output_type": "execute_result"
    }
   ],
   "source": [
    "def recortar(numero, minimo, maximo):\n",
    "    if numero < minimo:\n",
    "        return minimo\n",
    "    elif numero > maximo:\n",
    "        return maximo\n",
    "    else:\n",
    "        return numero\n",
    "    \n",
    "recortar(1,2,5)\n",
    "recortar(5,2,3)\n",
    "recortar(6,1,8)"
   ]
  },
  {
   "cell_type": "code",
   "execution_count": 24,
   "id": "2928bcf3",
   "metadata": {},
   "outputs": [
    {
     "data": {
      "text/plain": [
       "1"
      ]
     },
     "execution_count": 24,
     "metadata": {},
     "output_type": "execute_result"
    }
   ],
   "source": [
    "def resta(a,b):\n",
    "    return a - b\n",
    "\n",
    "resta(2,1)"
   ]
  },
  {
   "cell_type": "code",
   "execution_count": 28,
   "id": "4f27bbbc",
   "metadata": {},
   "outputs": [
    {
     "name": "stdout",
     "output_type": "stream",
     "text": [
      "0x7f89b9585c40\n"
     ]
    }
   ],
   "source": [
    "list1= [1,2,3,4,5]\n",
    "def memoria(obj):\n",
    "    print(f'{hex(id(obj))}')\n",
    "memoria(list1)"
   ]
  },
  {
   "cell_type": "markdown",
   "id": "2ec9b550",
   "metadata": {},
   "source": [
    "### Unknown arguments and parameters"
   ]
  },
  {
   "cell_type": "code",
   "execution_count": 29,
   "id": "04727f48",
   "metadata": {},
   "outputs": [
    {
     "name": "stdout",
     "output_type": "stream",
     "text": [
      "(5, 'Hello', [1, 2, 3])\n"
     ]
    }
   ],
   "source": [
    "def indeterminados_position(*args):\n",
    "    print(args)\n",
    "indeterminados_position(5,'Hello', [1,2,3])"
   ]
  },
  {
   "cell_type": "code",
   "execution_count": 30,
   "id": "ab33bf0d",
   "metadata": {},
   "outputs": [
    {
     "name": "stdout",
     "output_type": "stream",
     "text": [
      "5\n",
      "Hello\n",
      "[1, 2, 3]\n"
     ]
    }
   ],
   "source": [
    "def indeterminados_position(*args):\n",
    "    for a in args:\n",
    "        print(a)\n",
    "indeterminados_position(5,'Hello', [1,2,3])"
   ]
  },
  {
   "cell_type": "code",
   "execution_count": 41,
   "id": "8fc71e4e",
   "metadata": {},
   "outputs": [
    {
     "name": "stdout",
     "output_type": "stream",
     "text": [
      "{'n': 5, 's': 'Hello', 'l': [1, 2, 3]}\n"
     ]
    }
   ],
   "source": [
    "def indeterminados_name(**kwargs):\n",
    "    print(kwargs)\n",
    "indeterminados_name(n=5,s='Hello', l=[1,2,3])"
   ]
  },
  {
   "cell_type": "code",
   "execution_count": 44,
   "id": "49b5b224",
   "metadata": {},
   "outputs": [
    {
     "name": "stdout",
     "output_type": "stream",
     "text": [
      "n\n",
      "s\n",
      "l\n"
     ]
    }
   ],
   "source": [
    "def indeterminados_name(**kwargs):\n",
    "    for kwarg in kwargs:\n",
    "        print(kwarg)\n",
    "indeterminados_name(n=5,s='Hello', l=[1,2,3])"
   ]
  },
  {
   "cell_type": "code",
   "execution_count": 45,
   "id": "71b8643a",
   "metadata": {},
   "outputs": [
    {
     "name": "stdout",
     "output_type": "stream",
     "text": [
      "n   5\n",
      "s   Hello\n",
      "l   [1, 2, 3]\n"
     ]
    }
   ],
   "source": [
    "def indeterminados_name(**kwargs):\n",
    "    for kwarg in kwargs:\n",
    "        print(kwarg, \" \", kwargs[kwarg])\n",
    "indeterminados_name(n=5,s='Hello', l=[1,2,3])"
   ]
  },
  {
   "cell_type": "code",
   "execution_count": 46,
   "id": "de73f2eb",
   "metadata": {},
   "outputs": [
    {
     "name": "stdout",
     "output_type": "stream",
     "text": [
      "Total sum is: 254.4\n",
      "name   Laura\n",
      "age   24\n",
      "nacionality   spanish\n"
     ]
    }
   ],
   "source": [
    "def super_function(*args, **kwargs):\n",
    "    i = 0\n",
    "    for arg in args:\n",
    "        i+=arg\n",
    "    print(f'Total sum is: {i}')\n",
    "    for kwarg in kwargs:\n",
    "        print(kwarg, ' ', kwargs[kwarg])\n",
    "        \n",
    "super_function(10,20,78,44,102.4, name='Laura', age='24', nacionality='spanish')"
   ]
  },
  {
   "cell_type": "markdown",
   "id": "1f5cb540",
   "metadata": {},
   "source": [
    "### RECURSIVE"
   ]
  },
  {
   "cell_type": "code",
   "execution_count": 56,
   "id": "b9bcc17a",
   "metadata": {},
   "outputs": [
    {
     "name": "stdout",
     "output_type": "stream",
     "text": [
      "4\n",
      "3\n",
      "2\n",
      "1\n"
     ]
    }
   ],
   "source": [
    "def count_down(number):\n",
    "    if number > 0:\n",
    "        print(number)\n",
    "        count_down(number-1)\n",
    "\n",
    "count_down(4)"
   ]
  },
  {
   "cell_type": "code",
   "execution_count": 62,
   "id": "2606cf90",
   "metadata": {},
   "outputs": [
    {
     "data": {
      "text/plain": [
       "24"
      ]
     },
     "execution_count": 62,
     "metadata": {},
     "output_type": "execute_result"
    }
   ],
   "source": [
    "def factorial(number):\n",
    "    if number > 1:\n",
    "        number = number * factorial(number - 1)\n",
    "    return (number)\n",
    "factorial(4)"
   ]
  },
  {
   "cell_type": "code",
   "execution_count": 77,
   "id": "904938e2",
   "metadata": {},
   "outputs": [
    {
     "data": {
      "text/plain": [
       "15"
      ]
     },
     "execution_count": 77,
     "metadata": {},
     "output_type": "execute_result"
    }
   ],
   "source": [
    "# Completa el ejercicio\n",
    "def sumatorio(numero):\n",
    "    if numero > 0:\n",
    "        numero = numero + sumatorio(numero - 1)\n",
    "    return numero\n",
    "\n",
    "sumatorio(5)"
   ]
  },
  {
   "cell_type": "markdown",
   "id": "8b910a79",
   "metadata": {},
   "source": [
    "### BUILT-IN FUNCTIONS"
   ]
  },
  {
   "cell_type": "code",
   "execution_count": 80,
   "id": "71ef404f",
   "metadata": {},
   "outputs": [
    {
     "data": {
      "text/plain": [
       "10"
      ]
     },
     "execution_count": 80,
     "metadata": {},
     "output_type": "execute_result"
    }
   ],
   "source": [
    "n = int('10')\n",
    "n"
   ]
  },
  {
   "cell_type": "code",
   "execution_count": 81,
   "id": "77888bb1",
   "metadata": {},
   "outputs": [
    {
     "data": {
      "text/plain": [
       "10.0"
      ]
     },
     "execution_count": 81,
     "metadata": {},
     "output_type": "execute_result"
    }
   ],
   "source": [
    "f = float(n)\n",
    "f"
   ]
  },
  {
   "cell_type": "code",
   "execution_count": 82,
   "id": "c91ebe05",
   "metadata": {},
   "outputs": [
    {
     "data": {
      "text/plain": [
       "'0b1010'"
      ]
     },
     "execution_count": 82,
     "metadata": {},
     "output_type": "execute_result"
    }
   ],
   "source": [
    "bin(10)"
   ]
  },
  {
   "cell_type": "code",
   "execution_count": 83,
   "id": "ace6bdee",
   "metadata": {},
   "outputs": [
    {
     "data": {
      "text/plain": [
       "'0xa'"
      ]
     },
     "execution_count": 83,
     "metadata": {},
     "output_type": "execute_result"
    }
   ],
   "source": [
    "hex(10)"
   ]
  },
  {
   "cell_type": "code",
   "execution_count": 84,
   "id": "d883a46d",
   "metadata": {},
   "outputs": [
    {
     "data": {
      "text/plain": [
       "10"
      ]
     },
     "execution_count": 84,
     "metadata": {},
     "output_type": "execute_result"
    }
   ],
   "source": [
    "int(0b1010)"
   ]
  },
  {
   "cell_type": "code",
   "execution_count": 86,
   "id": "24a6ee2c",
   "metadata": {},
   "outputs": [
    {
     "data": {
      "text/plain": [
       "10"
      ]
     },
     "execution_count": 86,
     "metadata": {},
     "output_type": "execute_result"
    }
   ],
   "source": [
    "int(0xa)"
   ]
  },
  {
   "cell_type": "code",
   "execution_count": 88,
   "id": "a0ddc862",
   "metadata": {},
   "outputs": [
    {
     "data": {
      "text/plain": [
       "10"
      ]
     },
     "execution_count": 88,
     "metadata": {},
     "output_type": "execute_result"
    }
   ],
   "source": [
    "abs(-10)"
   ]
  },
  {
   "cell_type": "code",
   "execution_count": 89,
   "id": "f2d91648",
   "metadata": {},
   "outputs": [
    {
     "data": {
      "text/plain": [
       "5"
      ]
     },
     "execution_count": 89,
     "metadata": {},
     "output_type": "execute_result"
    }
   ],
   "source": [
    "round(5.4)"
   ]
  },
  {
   "cell_type": "code",
   "execution_count": 91,
   "id": "0348e39e",
   "metadata": {},
   "outputs": [
    {
     "data": {
      "text/plain": [
       "7"
      ]
     },
     "execution_count": 91,
     "metadata": {},
     "output_type": "execute_result"
    }
   ],
   "source": [
    "eval('2+5')"
   ]
  },
  {
   "cell_type": "code",
   "execution_count": 92,
   "id": "1c9ee7fc",
   "metadata": {},
   "outputs": [
    {
     "name": "stdout",
     "output_type": "stream",
     "text": [
      "\n",
      "Welcome to Python 3.9's help utility!\n",
      "\n",
      "If this is your first time using Python, you should definitely check out\n",
      "the tutorial on the Internet at https://docs.python.org/3.9/tutorial/.\n",
      "\n",
      "Enter the name of any module, keyword, or topic to get help on writing\n",
      "Python programs and using Python modules.  To quit this help utility and\n",
      "return to the interpreter, just type \"quit\".\n",
      "\n",
      "To get a list of available modules, keywords, symbols, or topics, type\n",
      "\"modules\", \"keywords\", \"symbols\", or \"topics\".  Each module also comes\n",
      "with a one-line summary of what it does; to list the modules whose name\n",
      "or summary contain a given string such as \"spam\", type \"modules spam\".\n",
      "\n",
      "help> \n",
      "\n",
      "You are now leaving help and returning to the Python interpreter.\n",
      "If you want to ask for help on a particular object directly from the\n",
      "interpreter, you can type \"help(object)\".  Executing \"help('string')\"\n",
      "has the same effect as typing a particular string at the help> prompt.\n"
     ]
    }
   ],
   "source": [
    "help()"
   ]
  }
 ],
 "metadata": {
  "kernelspec": {
   "display_name": "Python 3 (ipykernel)",
   "language": "python",
   "name": "python3"
  },
  "language_info": {
   "codemirror_mode": {
    "name": "ipython",
    "version": 3
   },
   "file_extension": ".py",
   "mimetype": "text/x-python",
   "name": "python",
   "nbconvert_exporter": "python",
   "pygments_lexer": "ipython3",
   "version": "3.9.13"
  }
 },
 "nbformat": 4,
 "nbformat_minor": 5
}
