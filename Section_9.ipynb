{
 "cells": [
  {
   "cell_type": "markdown",
   "id": "7f783c3c",
   "metadata": {},
   "source": [
    "# FUNCTIONS"
   ]
  },
  {
   "cell_type": "code",
   "execution_count": 3,
   "id": "f94b2930",
   "metadata": {},
   "outputs": [
    {
     "name": "stdout",
     "output_type": "stream",
     "text": [
      "Hello there!\n"
     ]
    }
   ],
   "source": [
    "def greeting():\n",
    "    print(\"Hello there!\")\n",
    "    \n",
    "greeting()"
   ]
  },
  {
   "cell_type": "code",
   "execution_count": 8,
   "id": "482ffe21",
   "metadata": {},
   "outputs": [
    {
     "name": "stdout",
     "output_type": "stream",
     "text": [
      " 5 * 0 = 0 \n",
      " 5 * 1 = 5 \n",
      " 5 * 2 = 10 \n",
      " 5 * 3 = 15 \n",
      " 5 * 4 = 20 \n",
      " 5 * 5 = 25 \n",
      " 5 * 6 = 30 \n",
      " 5 * 7 = 35 \n",
      " 5 * 8 = 40 \n",
      " 5 * 9 = 45 \n"
     ]
    }
   ],
   "source": [
    "def draw_5_table():\n",
    "    for i in range(10):\n",
    "        print(f\" 5 * {i} = {5 * i} \")\n",
    "draw_5_table()"
   ]
  },
  {
   "cell_type": "code",
   "execution_count": 13,
   "id": "80c659cf",
   "metadata": {},
   "outputs": [
    {
     "data": {
      "text/plain": [
       "5"
      ]
     },
     "execution_count": 13,
     "metadata": {},
     "output_type": "execute_result"
    }
   ],
   "source": [
    "def test():\n",
    "    return [1,2,3,4,5]\n",
    "\n",
    "c = test()[-1]\n",
    "c"
   ]
  },
  {
   "cell_type": "code",
   "execution_count": 17,
   "id": "5010c081",
   "metadata": {},
   "outputs": [
    {
     "name": "stdout",
     "output_type": "stream",
     "text": [
      "PAR\n",
      "IMPAR\n"
     ]
    }
   ],
   "source": [
    "def par_o_impar(numero):\n",
    "    if numero % 2 == 0:\n",
    "        print('PAR')\n",
    "    else:\n",
    "        print('IMPAR')\n",
    "        \n",
    "par_o_impar(2)\n",
    "par_o_impar(3)"
   ]
  },
  {
   "cell_type": "code",
   "execution_count": 22,
   "id": "b078e5bb",
   "metadata": {},
   "outputs": [
    {
     "data": {
      "text/plain": [
       "6"
      ]
     },
     "execution_count": 22,
     "metadata": {},
     "output_type": "execute_result"
    }
   ],
   "source": [
    "def recortar(numero, minimo, maximo):\n",
    "    if numero < minimo:\n",
    "        return minimo\n",
    "    elif numero > maximo:\n",
    "        return maximo\n",
    "    else:\n",
    "        return numero\n",
    "    \n",
    "recortar(1,2,5)\n",
    "recortar(5,2,3)\n",
    "recortar(6,1,8)"
   ]
  },
  {
   "cell_type": "code",
   "execution_count": 24,
   "id": "1660a2a7",
   "metadata": {},
   "outputs": [
    {
     "data": {
      "text/plain": [
       "1"
      ]
     },
     "execution_count": 24,
     "metadata": {},
     "output_type": "execute_result"
    }
   ],
   "source": [
    "def resta(a,b):\n",
    "    return a - b\n",
    "\n",
    "resta(2,1)"
   ]
  },
  {
   "cell_type": "code",
   "execution_count": 28,
   "id": "21b64107",
   "metadata": {},
   "outputs": [
    {
     "name": "stdout",
     "output_type": "stream",
     "text": [
      "0x7f89b9585c40\n"
     ]
    }
   ],
   "source": [
    "list1= [1,2,3,4,5]\n",
    "def memoria(obj):\n",
    "    print(f'{hex(id(obj))}')\n",
    "memoria(list1)"
   ]
  },
  {
   "cell_type": "markdown",
   "id": "4d5e920d",
   "metadata": {},
   "source": [
    "### Unknown arguments and parameters"
   ]
  },
  {
   "cell_type": "code",
   "execution_count": 29,
   "id": "90bcb19e",
   "metadata": {},
   "outputs": [
    {
     "name": "stdout",
     "output_type": "stream",
     "text": [
      "(5, 'Hello', [1, 2, 3])\n"
     ]
    }
   ],
   "source": [
    "def indeterminados_position(*args):\n",
    "    print(args)\n",
    "indeterminados_position(5,'Hello', [1,2,3])"
   ]
  },
  {
   "cell_type": "code",
   "execution_count": 30,
   "id": "82da5cc5",
   "metadata": {},
   "outputs": [
    {
     "name": "stdout",
     "output_type": "stream",
     "text": [
      "5\n",
      "Hello\n",
      "[1, 2, 3]\n"
     ]
    }
   ],
   "source": [
    "def indeterminados_position(*args):\n",
    "    for a in args:\n",
    "        print(a)\n",
    "indeterminados_position(5,'Hello', [1,2,3])"
   ]
  },
  {
   "cell_type": "code",
   "execution_count": 41,
   "id": "a63a3cf3",
   "metadata": {},
   "outputs": [
    {
     "name": "stdout",
     "output_type": "stream",
     "text": [
      "{'n': 5, 's': 'Hello', 'l': [1, 2, 3]}\n"
     ]
    }
   ],
   "source": [
    "def indeterminados_name(**kwargs):\n",
    "    print(kwargs)\n",
    "indeterminados_name(n=5,s='Hello', l=[1,2,3])"
   ]
  },
  {
   "cell_type": "code",
   "execution_count": 44,
   "id": "a6fb8989",
   "metadata": {},
   "outputs": [
    {
     "name": "stdout",
     "output_type": "stream",
     "text": [
      "n\n",
      "s\n",
      "l\n"
     ]
    }
   ],
   "source": [
    "def indeterminados_name(**kwargs):\n",
    "    for kwarg in kwargs:\n",
    "        print(kwarg)\n",
    "indeterminados_name(n=5,s='Hello', l=[1,2,3])"
   ]
  },
  {
   "cell_type": "code",
   "execution_count": 45,
   "id": "3fa152be",
   "metadata": {},
   "outputs": [
    {
     "name": "stdout",
     "output_type": "stream",
     "text": [
      "n   5\n",
      "s   Hello\n",
      "l   [1, 2, 3]\n"
     ]
    }
   ],
   "source": [
    "def indeterminados_name(**kwargs):\n",
    "    for kwarg in kwargs:\n",
    "        print(kwarg, \" \", kwargs[kwarg])\n",
    "indeterminados_name(n=5,s='Hello', l=[1,2,3])"
   ]
  },
  {
   "cell_type": "code",
   "execution_count": 46,
   "id": "4cb92678",
   "metadata": {},
   "outputs": [
    {
     "name": "stdout",
     "output_type": "stream",
     "text": [
      "Total sum is: 254.4\n",
      "name   Laura\n",
      "age   24\n",
      "nacionality   spanish\n"
     ]
    }
   ],
   "source": [
    "def super_function(*args, **kwargs):\n",
    "    i = 0\n",
    "    for arg in args:\n",
    "        i+=arg\n",
    "    print(f'Total sum is: {i}')\n",
    "    for kwarg in kwargs:\n",
    "        print(kwarg, ' ', kwargs[kwarg])\n",
    "        \n",
    "super_function(10,20,78,44,102.4, name='Laura', age='24', nacionality='spanish')"
   ]
  },
  {
   "cell_type": "markdown",
   "id": "7b9fbffd",
   "metadata": {},
   "source": [
    "### RECURSIVE"
   ]
  },
  {
   "cell_type": "code",
   "execution_count": 56,
   "id": "4527c5c8",
   "metadata": {},
   "outputs": [
    {
     "name": "stdout",
     "output_type": "stream",
     "text": [
      "4\n",
      "3\n",
      "2\n",
      "1\n"
     ]
    }
   ],
   "source": [
    "def count_down(number):\n",
    "    if number > 0:\n",
    "        print(number)\n",
    "        count_down(number-1)\n",
    "\n",
    "count_down(4)"
   ]
  },
  {
   "cell_type": "code",
   "execution_count": 62,
   "id": "f8b1cb8b",
   "metadata": {},
   "outputs": [
    {
     "data": {
      "text/plain": [
       "24"
      ]
     },
     "execution_count": 62,
     "metadata": {},
     "output_type": "execute_result"
    }
   ],
   "source": [
    "def factorial(number):\n",
    "    if number > 1:\n",
    "        number = number * factorial(number - 1)\n",
    "    return (number)\n",
    "factorial(4)"
   ]
  },
  {
   "cell_type": "code",
   "execution_count": 77,
   "id": "c3821d68",
   "metadata": {},
   "outputs": [
    {
     "data": {
      "text/plain": [
       "15"
      ]
     },
     "execution_count": 77,
     "metadata": {},
     "output_type": "execute_result"
    }
   ],
   "source": [
    "# Completa el ejercicio\n",
    "def sumatorio(numero):\n",
    "    if numero > 0:\n",
    "        numero = numero + sumatorio(numero - 1)\n",
    "    return numero\n",
    "\n",
    "sumatorio(5)"
   ]
  },
  {
   "cell_type": "markdown",
   "id": "f54fd42b",
   "metadata": {},
   "source": [
    "### BUILT-IN FUNCTIONS"
   ]
  },
  {
   "cell_type": "code",
   "execution_count": 80,
   "id": "02db6914",
   "metadata": {},
   "outputs": [
    {
     "data": {
      "text/plain": [
       "10"
      ]
     },
     "execution_count": 80,
     "metadata": {},
     "output_type": "execute_result"
    }
   ],
   "source": [
    "n = int('10')\n",
    "n"
   ]
  },
  {
   "cell_type": "code",
   "execution_count": 81,
   "id": "f7d9081c",
   "metadata": {},
   "outputs": [
    {
     "data": {
      "text/plain": [
       "10.0"
      ]
     },
     "execution_count": 81,
     "metadata": {},
     "output_type": "execute_result"
    }
   ],
   "source": [
    "f = float(n)\n",
    "f"
   ]
  }
 ],
 "metadata": {
  "kernelspec": {
   "display_name": "Python 3 (ipykernel)",
   "language": "python",
   "name": "python3"
  },
  "language_info": {
   "codemirror_mode": {
    "name": "ipython",
    "version": 3
   },
   "file_extension": ".py",
   "mimetype": "text/x-python",
   "name": "python",
   "nbconvert_exporter": "python",
   "pygments_lexer": "ipython3",
   "version": "3.9.13"
  }
 },
 "nbformat": 4,
 "nbformat_minor": 5
}
