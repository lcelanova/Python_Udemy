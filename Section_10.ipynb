{
 "cells": [
  {
   "cell_type": "markdown",
   "id": "bafe2bf5",
   "metadata": {},
   "source": [
    "# EXCEPTIONS"
   ]
  },
  {
   "cell_type": "code",
   "execution_count": 10,
   "id": "1ab619eb",
   "metadata": {},
   "outputs": [],
   "source": [
    "def dividir(a, b):\n",
    "    try:\n",
    "        return a/b\n",
    "    except:\n",
    "        print('No se puede dividir entre cero')"
   ]
  },
  {
   "cell_type": "code",
   "execution_count": 11,
   "id": "aa0f449e",
   "metadata": {},
   "outputs": [
    {
     "name": "stdout",
     "output_type": "stream",
     "text": [
      "No se puede dividir entre cero\n"
     ]
    }
   ],
   "source": [
    "dividir(10,0)"
   ]
  },
  {
   "cell_type": "code",
   "execution_count": 12,
   "id": "252b3c39",
   "metadata": {},
   "outputs": [
    {
     "data": {
      "text/plain": [
       "5.0"
      ]
     },
     "execution_count": 12,
     "metadata": {},
     "output_type": "execute_result"
    }
   ],
   "source": [
    "dividir(10,2)"
   ]
  },
  {
   "cell_type": "code",
   "execution_count": 15,
   "id": "6b0ae877",
   "metadata": {},
   "outputs": [
    {
     "name": "stdout",
     "output_type": "stream",
     "text": [
      "Introduce a number: 3\n",
      "TypeError\n"
     ]
    }
   ],
   "source": [
    "try:\n",
    "    n = input('Introduce un numero: ')\n",
    "    5/n\n",
    "except Exception as e:\n",
    "    print( type(e).__name__ )"
   ]
  },
  {
   "cell_type": "code",
   "execution_count": 18,
   "id": "d93f79a0",
   "metadata": {},
   "outputs": [
    {
     "name": "stdout",
     "output_type": "stream",
     "text": [
      "Introduce a number: 0\n",
      "ZeroDivisionError\n"
     ]
    }
   ],
   "source": [
    "try:\n",
    "    n = int(input('Introduce a number: '))\n",
    "    5/n\n",
    "except TypeError:\n",
    "    print('No puedes dividr un número entre una cadena')\n",
    "except Exception as e:\n",
    "    print( type(e).__name__ )"
   ]
  },
  {
   "cell_type": "code",
   "execution_count": 19,
   "id": "55baa104",
   "metadata": {},
   "outputs": [
    {
     "name": "stdout",
     "output_type": "stream",
     "text": [
      "Introduce a number: 0\n",
      "No puedes dividr entre cero\n"
     ]
    }
   ],
   "source": [
    "try:\n",
    "    n = int(input('Introduce a number: '))\n",
    "    5/n\n",
    "except TypeError:\n",
    "    print('No puedes dividr un número entre una cadena')\n",
    "except ZeroDivisionError:\n",
    "    print('No puedes dividr entre cero')\n",
    "except Exception as e:\n",
    "    print( type(e).__name__ )"
   ]
  },
  {
   "cell_type": "code",
   "execution_count": 21,
   "id": "284f127c",
   "metadata": {},
   "outputs": [],
   "source": [
    "def function(algo=None):\n",
    "    if algo is None:\n",
    "        print('Error! No se permite un valor nulo')"
   ]
  },
  {
   "cell_type": "code",
   "execution_count": 22,
   "id": "0a06e9b8",
   "metadata": {},
   "outputs": [],
   "source": [
    "function('algo')"
   ]
  },
  {
   "cell_type": "code",
   "execution_count": 23,
   "id": "69c7cc8b",
   "metadata": {},
   "outputs": [],
   "source": [
    "function('')"
   ]
  },
  {
   "cell_type": "code",
   "execution_count": 24,
   "id": "00309656",
   "metadata": {},
   "outputs": [
    {
     "name": "stdout",
     "output_type": "stream",
     "text": [
      "Error! No se permite un valor nulo\n"
     ]
    }
   ],
   "source": [
    "function()"
   ]
  },
  {
   "cell_type": "code",
   "execution_count": null,
   "id": "dd193fc7",
   "metadata": {},
   "outputs": [],
   "source": []
  },
  {
   "cell_type": "code",
   "execution_count": null,
   "id": "1627d3f8",
   "metadata": {},
   "outputs": [],
   "source": []
  },
  {
   "cell_type": "code",
   "execution_count": null,
   "id": "70459d10",
   "metadata": {},
   "outputs": [],
   "source": []
  },
  {
   "cell_type": "code",
   "execution_count": null,
   "id": "ea377c4f",
   "metadata": {},
   "outputs": [],
   "source": []
  }
 ],
 "metadata": {
  "kernelspec": {
   "display_name": "Python 3 (ipykernel)",
   "language": "python",
   "name": "python3"
  },
  "language_info": {
   "codemirror_mode": {
    "name": "ipython",
    "version": 3
   },
   "file_extension": ".py",
   "mimetype": "text/x-python",
   "name": "python",
   "nbconvert_exporter": "python",
   "pygments_lexer": "ipython3",
   "version": "3.9.13"
  }
 },
 "nbformat": 4,
 "nbformat_minor": 5
}
